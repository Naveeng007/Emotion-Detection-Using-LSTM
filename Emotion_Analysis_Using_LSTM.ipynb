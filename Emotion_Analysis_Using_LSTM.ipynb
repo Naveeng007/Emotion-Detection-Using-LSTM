{
  "nbformat": 4,
  "nbformat_minor": 0,
  "metadata": {
    "colab": {
      "name": "ADBMS Project.ipynb",
      "provenance": []
    },
    "kernelspec": {
      "name": "python3",
      "display_name": "Python 3"
    },
    "language_info": {
      "name": "python"
    }
  },
  "cells": [
    {
      "cell_type": "markdown",
      "metadata": {
        "id": "-wsfQOMP-wgB"
      },
      "source": [
        "**1)** **Loading Dataset** from Google Drive"
      ]
    },
    {
      "cell_type": "code",
      "metadata": {
        "colab": {
          "base_uri": "https://localhost:8080/"
        },
        "id": "BjVnsbvi2rvu",
        "outputId": "51fad8c8-6d4e-4f6b-edaa-f1271a5af391"
      },
      "source": [
        "from google.colab import drive\n",
        "drive.mount('/content/gdrive')"
      ],
      "execution_count": null,
      "outputs": [
        {
          "output_type": "stream",
          "text": [
            "Mounted at /content/gdrive\n"
          ],
          "name": "stdout"
        }
      ]
    },
    {
      "cell_type": "code",
      "metadata": {
        "colab": {
          "base_uri": "https://localhost:8080/",
          "height": 204
        },
        "id": "Hm-wz_XM_ge5",
        "outputId": "bdf02c7e-8a3b-4f85-9621-4f90e59987b8"
      },
      "source": [
        "import numpy as np\n",
        "import pandas as pd\n",
        "\n",
        "# Importing the Data file\n",
        "data = pd.read_csv('/content/gdrive/MyDrive/Sentiment/newData.csv')\n",
        "\n",
        "# Preview Data\n",
        "data.head()"
      ],
      "execution_count": null,
      "outputs": [
        {
          "output_type": "execute_result",
          "data": {
            "text/html": [
              "<div>\n",
              "<style scoped>\n",
              "    .dataframe tbody tr th:only-of-type {\n",
              "        vertical-align: middle;\n",
              "    }\n",
              "\n",
              "    .dataframe tbody tr th {\n",
              "        vertical-align: top;\n",
              "    }\n",
              "\n",
              "    .dataframe thead th {\n",
              "        text-align: right;\n",
              "    }\n",
              "</style>\n",
              "<table border=\"1\" class=\"dataframe\">\n",
              "  <thead>\n",
              "    <tr style=\"text-align: right;\">\n",
              "      <th></th>\n",
              "      <th>text</th>\n",
              "      <th>emotions</th>\n",
              "    </tr>\n",
              "  </thead>\n",
              "  <tbody>\n",
              "    <tr>\n",
              "      <th>0</th>\n",
              "      <td>i feel awful about it too because it s my job ...</td>\n",
              "      <td>sadness</td>\n",
              "    </tr>\n",
              "    <tr>\n",
              "      <th>1</th>\n",
              "      <td>im alone i feel awful</td>\n",
              "      <td>sadness</td>\n",
              "    </tr>\n",
              "    <tr>\n",
              "      <th>2</th>\n",
              "      <td>i was feeling a little low few days back</td>\n",
              "      <td>sadness</td>\n",
              "    </tr>\n",
              "    <tr>\n",
              "      <th>3</th>\n",
              "      <td>i also feel disillusioned that someone who cla...</td>\n",
              "      <td>sadness</td>\n",
              "    </tr>\n",
              "    <tr>\n",
              "      <th>4</th>\n",
              "      <td>i wish you knew every word i write i write for...</td>\n",
              "      <td>sadness</td>\n",
              "    </tr>\n",
              "  </tbody>\n",
              "</table>\n",
              "</div>"
            ],
            "text/plain": [
              "                                                text emotions\n",
              "0  i feel awful about it too because it s my job ...  sadness\n",
              "1                              im alone i feel awful  sadness\n",
              "2           i was feeling a little low few days back  sadness\n",
              "3  i also feel disillusioned that someone who cla...  sadness\n",
              "4  i wish you knew every word i write i write for...  sadness"
            ]
          },
          "metadata": {
            "tags": []
          },
          "execution_count": 4
        }
      ]
    },
    {
      "cell_type": "code",
      "metadata": {
        "colab": {
          "base_uri": "https://localhost:8080/",
          "height": 364
        },
        "id": "R4wjgoeQEN6j",
        "outputId": "8bc72b40-9c57-4f48-fbed-1a5be360bc88"
      },
      "source": [
        "# Visualize the Samples\n",
        "print(data[data['emotions']=='sadness'].shape)\n",
        "print(data[data['emotions']=='joy'].shape)\n",
        "print(data[data['emotions']=='fear'].shape)\n",
        "\n",
        "# Plotting Graph\n",
        "data.emotions.value_counts().plot.bar()"
      ],
      "execution_count": null,
      "outputs": [
        {
          "output_type": "stream",
          "text": [
            "(121187, 2)\n",
            "(141067, 2)\n",
            "(47712, 2)\n"
          ],
          "name": "stdout"
        },
        {
          "output_type": "execute_result",
          "data": {
            "text/plain": [
              "<matplotlib.axes._subplots.AxesSubplot at 0x7f0ee6f2ffd0>"
            ]
          },
          "metadata": {
            "tags": []
          },
          "execution_count": 5
        },
        {
          "output_type": "display_data",
          "data": {
            "image/png": "[encoded data removed]",
            "text/plain": [
              "<Figure size 432x288 with 1 Axes>"
            ]
          },
          "metadata": {
            "tags": [],
            "needs_background": "light"
          }
        }
      ]
    },
    {
      "cell_type": "code",
      "metadata": {
        "colab": {
          "base_uri": "https://localhost:8080/",
          "height": 418
        },
        "id": "vX2YX99rEoi1",
        "outputId": "10ef0cad-38e7-4c9a-ac51-158bb32df425"
      },
      "source": [
        "import matplotlib.pyplot as plt\n",
        "%matplotlib inline\n",
        "\n",
        "# Analyzing Review Lengths\n",
        "reviews = [len(x) for x in data['text']]\n",
        "pd.Series(reviews).hist()\n",
        "plt.show()\n",
        "\n",
        "# Summarizing the Analysis\n",
        "pd.Series(reviews).describe()"
      ],
      "execution_count": null,
      "outputs": [
        {
          "output_type": "display_data",
          "data": {
            "image/png": "[encoded data removed]",
            "text/plain": [
              "<Figure size 432x288 with 1 Axes>"
            ]
          },
          "metadata": {
            "tags": [],
            "needs_background": "light"
          }
        },
        {
          "output_type": "execute_result",
          "data": {
            "text/plain": [
              "count    309966.000000\n",
              "mean         96.233003\n",
              "std          55.920283\n",
              "min           2.000000\n",
              "25%          53.000000\n",
              "50%          85.000000\n",
              "75%         127.000000\n",
              "max         525.000000\n",
              "dtype: float64"
            ]
          },
          "metadata": {
            "tags": []
          },
          "execution_count": 99
        }
      ]
    },
    {
      "cell_type": "markdown",
      "metadata": {
        "id": "UMmRuOd1_RSI"
      },
      "source": [
        "**2) Data Preprocessing**"
      ]
    },
    {
      "cell_type": "code",
      "metadata": {
        "id": "244pTSjCFIez"
      },
      "source": [
        "import re\n",
        "\n",
        "# Converting to lower case\n",
        "data['text'] = data['text'].apply(lambda x: x.lower())\n",
        "\n",
        "# Removing Punctuations\n",
        "data['text'] = data['text'].apply((lambda x: re.sub('[^a-zA-z0-9\\s]','',x)))"
      ],
      "execution_count": null,
      "outputs": []
    },
    {
      "cell_type": "code",
      "metadata": {
        "id": "0yU7cSbYFIyb"
      },
      "source": [
        "from keras.preprocessing.text import Tokenizer\n",
        "from keras.preprocessing.sequence import pad_sequences\n",
        "\n",
        "# Tokenizing the text using in-built function\n",
        "tokenizer = Tokenizer(num_words = 5000, split=' ')\n",
        "tokenizer.fit_on_texts(data['text'].values)\n",
        "\n",
        "# The function map the words to integers, ands also pads the sentences, wherever required  \n",
        "X = tokenizer.texts_to_sequences(data['text'].values)\n",
        "X = pad_sequences(X)"
      ],
      "execution_count": null,
      "outputs": []
    },
    {
      "cell_type": "code",
      "metadata": {
        "id": "HkPXiI5WG_nM"
      },
      "source": [
        "# Encoding the Labels\n",
        "Y = pd.get_dummies(data['emotions']).values"
      ],
      "execution_count": null,
      "outputs": []
    },
    {
      "cell_type": "code",
      "metadata": {
        "colab": {
          "base_uri": "https://localhost:8080/"
        },
        "id": "k-pkvk8LFJGE",
        "outputId": "8f26e4ff-041b-4500-bbb0-6b4544342f11"
      },
      "source": [
        "from sklearn.model_selection import train_test_split\n",
        "\n",
        "# Splitting the Dataset\n",
        "X_train, X_test, Y_train, Y_test = train_test_split(X, Y, test_size = 0.3)\n",
        "print(X_train.shape, Y_train.shape)\n",
        "print(X_test.shape, Y_test.shape)"
      ],
      "execution_count": null,
      "outputs": [
        {
          "output_type": "stream",
          "text": [
            "(216976, 96) (216976, 3)\n",
            "(92990, 96) (92990, 3)\n"
          ],
          "name": "stdout"
        }
      ]
    },
    {
      "cell_type": "markdown",
      "metadata": {
        "id": "Vr5soQHs_VGi"
      },
      "source": [
        "**3) Defining Model**"
      ]
    },
    {
      "cell_type": "code",
      "metadata": {
        "colab": {
          "base_uri": "https://localhost:8080/"
        },
        "id": "UusvcqlQHtIU",
        "outputId": "fa213b43-d836-4239-9a76-9d0fc876f1bb"
      },
      "source": [
        "from tensorflow import keras\n",
        "from keras.models import Sequential\n",
        "from keras.layers import Dense, Embedding, LSTM, SpatialDropout1D\n",
        "\n",
        "# Defining Model Architecture\n",
        "model = Sequential()\n",
        "\n",
        "model.add(Embedding(5000, 64, input_length = X.shape[1]))\n",
        "model.add(SpatialDropout1D(0.4))\n",
        "\n",
        "model.add(LSTM(64, dropout=0.2, recurrent_dropout=0.2))\n",
        "model.add(Dense(3, activation='softmax'))\n",
        "\n",
        "model.compile(loss = 'categorical_crossentropy', optimizer='adam', metrics = ['accuracy'])\n",
        "print(model.summary())"
      ],
      "execution_count": null,
      "outputs": [
        {
          "output_type": "stream",
          "text": [
            "Model: \"sequential_2\"\n",
            "_________________________________________________________________\n",
            "Layer (type)                 Output Shape              Param #   \n",
            "=================================================================\n",
            "embedding_2 (Embedding)      (None, 96, 64)            320000    \n",
            "_________________________________________________________________\n",
            "spatial_dropout1d_2 (Spatial (None, 96, 64)            0         \n",
            "_________________________________________________________________\n",
            "lstm_2 (LSTM)                (None, 64)                33024     \n",
            "_________________________________________________________________\n",
            "dense_2 (Dense)              (None, 3)                 195       \n",
            "=================================================================\n",
            "Total params: 353,219\n",
            "Trainable params: 353,219\n",
            "Non-trainable params: 0\n",
            "_________________________________________________________________\n",
            "None\n"
          ],
          "name": "stdout"
        }
      ]
    },
    {
      "cell_type": "code",
      "metadata": {
        "colab": {
          "base_uri": "https://localhost:8080/",
          "height": 533
        },
        "id": "bgcowqS7HtbU",
        "outputId": "c1599e50-82dc-46b9-d547-0b9297309e02"
      },
      "source": [
        "from keras.utils.vis_utils import plot_model\n",
        "\n",
        "# Plotting Model Architecture\n",
        "plot_model(model, to_file='model_plot.png', show_shapes=True, show_layer_names=True)"
      ],
      "execution_count": null,
      "outputs": [
        {
          "output_type": "execute_result",
          "data": {
            "image/png": "[encoded data removed]",
            "text/plain": [
              "<IPython.core.display.Image object>"
            ]
          },
          "metadata": {
            "tags": []
          },
          "execution_count": 132
        }
      ]
    },
    {
      "cell_type": "code",
      "metadata": {
        "colab": {
          "base_uri": "https://localhost:8080/"
        },
        "id": "0yPJkx46Htq9",
        "outputId": "b5fe4562-ab3a-44e0-8155-70ee476612a4"
      },
      "source": [
        "# Training the Model\n",
        "batch_size = 16\n",
        "model.fit(X_train, Y_train, epochs = 3, batch_size=batch_size, verbose = 1)"
      ],
      "execution_count": null,
      "outputs": [
        {
          "output_type": "stream",
          "text": [
            "Epoch 1/3\n",
            "848/848 [==============================] - 386s 452ms/step - loss: 0.4743 - accuracy: 0.7848\n",
            "Epoch 2/3\n",
            "848/848 [==============================] - 389s 459ms/step - loss: 0.0353 - accuracy: 0.9855\n",
            "Epoch 3/3\n",
            "848/848 [==============================] - 386s 455ms/step - loss: 0.0231 - accuracy: 0.9891\n"
          ],
          "name": "stdout"
        },
        {
          "output_type": "execute_result",
          "data": {
            "text/plain": [
              "<tensorflow.python.keras.callbacks.History at 0x7f0ee65b2390>"
            ]
          },
          "metadata": {
            "tags": []
          },
          "execution_count": 133
        }
      ]
    },
    {
      "cell_type": "code",
      "metadata": {
        "colab": {
          "base_uri": "https://localhost:8080/"
        },
        "id": "NyIxxsy4Qpsh",
        "outputId": "d04532b9-ab42-49e1-f61a-be2b53c819b9"
      },
      "source": [
        "# Saving the Model\n",
        "model.save('/content/gdrive/MyDrive/Sentiment/new model')"
      ],
      "execution_count": null,
      "outputs": [
        {
          "output_type": "stream",
          "text": [
            "INFO:tensorflow:Assets written to: /content/gdrive/MyDrive/Sentiment/new model/assets\n"
          ],
          "name": "stdout"
        }
      ]
    },
    {
      "cell_type": "code",
      "metadata": {
        "id": "_Qj4CkFGQ6-P"
      },
      "source": [
        "# Loading the Model\n",
        "model = keras.models.load_model('/content/gdrive/MyDrive/Sentiment/new model')"
      ],
      "execution_count": null,
      "outputs": []
    },
    {
      "cell_type": "markdown",
      "metadata": {
        "id": "ZYiDdJrh_b5w"
      },
      "source": [
        "**4) Results and Examples**"
      ]
    },
    {
      "cell_type": "code",
      "metadata": {
        "id": "fUBot1_nRIZH"
      },
      "source": [
        "# Predicting the Results\n",
        "y_pred = model.predict(X_test)\n",
        "y_pred = np.array([[1 if x > 0.5 else 0 for x in y ] for y in y_pred])"
      ],
      "execution_count": null,
      "outputs": []
    },
    {
      "cell_type": "code",
      "metadata": {
        "colab": {
          "base_uri": "https://localhost:8080/",
          "height": 265
        },
        "id": "h54fz9IiRPmf",
        "outputId": "ecfae648-efa6-4a76-98ba-ad6d44bf2195"
      },
      "source": [
        "import seaborn as sn\n",
        "from sklearn.metrics import confusion_matrix\n",
        "\n",
        "# Confusion Matrix\n",
        "cm = confusion_matrix(Y_test.argmax(axis=1), y_pred.argmax(axis=1))\n",
        "sn.heatmap(cm/np.sum(cm), annot=True, fmt='.2%', cmap='Blues')\n",
        "plt.show()"
      ],
      "execution_count": null,
      "outputs": [
        {
          "output_type": "display_data",
          "data": {
            "image/png": "[encoded data removed]",
            "text/plain": [
              "<Figure size 432x288 with 2 Axes>"
            ]
          },
          "metadata": {
            "tags": [],
            "needs_background": "light"
          }
        }
      ]
    },
    {
      "cell_type": "code",
      "metadata": {
        "colab": {
          "base_uri": "https://localhost:8080/"
        },
        "id": "Dm5qPw3JRP4X",
        "outputId": "bcbd8c6d-00ce-4bc1-e049-ebefd9f8a5d0"
      },
      "source": [
        "from sklearn.metrics import accuracy_score\n",
        "from sklearn.metrics import f1_score\n",
        "from sklearn.metrics import roc_auc_score\n",
        "from sklearn.metrics import log_loss\n",
        "\n",
        "# Performance Measures\n",
        "print(\"Accuracy:\", accuracy_score(Y_test, y_pred))\n",
        "print(\"F1 Score:\", f1_score(Y_test, y_pred, average='micro'))\n",
        "print(\"AUC ROC:\", roc_auc_score(Y_test, y_pred, multi_class='ovr'))\n",
        "print(\"Log Loss:\", log_loss(Y_test, y_pred))"
      ],
      "execution_count": null,
      "outputs": [
        {
          "output_type": "stream",
          "text": [
            "Accuracy: 0.9861490482847618\n",
            "F1 Score: 0.9869397463286533\n",
            "AUC ROC: 0.9861601844657049\n",
            "Log Loss: 0.42481298574916665\n"
          ],
          "name": "stdout"
        }
      ]
    },
    {
      "cell_type": "code",
      "metadata": {
        "id": "Wx3dbe1AfBwt"
      },
      "source": [
        "def Predictor(twt):\n",
        "  twt = tokenizer.texts_to_sequences(twt)\n",
        "  twt = pad_sequences(twt, maxlen = 96, dtype = 'int32', value = 0)\n",
        "  sentiment = model.predict(twt ,batch_size = 1, verbose = 0)[0]\n",
        "  sentiment = [float(i)/sum(sentiment) for i in sentiment]\n",
        "  print(f\"Depression: {((sentiment[0]*100)**1.3 + (sentiment[2]*100)**1.5)/10: 0.4}%\")"
      ],
      "execution_count": null,
      "outputs": []
    },
    {
      "cell_type": "code",
      "metadata": {
        "colab": {
          "base_uri": "https://localhost:8080/"
        },
        "id": "HtWIIg8FcLaR",
        "outputId": "d4cd943c-1918-4311-bc80-32632f057665"
      },
      "source": [
        "# Examples\n",
        "Predictor([\"i am depressed and discouraged\"])\n",
        "Predictor([\"i am playing games\"])\n",
        "Predictor([\"i am feeling lonely\"])\n",
        "Predictor([\"please do not kill me\"])\n",
        "Predictor([\"i really want to be alone\"])\n",
        "Predictor([\"i commit suicide\"])\n",
        "Predictor([\"i feel so good while talking to you\"])"
      ],
      "execution_count": null,
      "outputs": [
        {
          "output_type": "stream",
          "text": [
            "Depression:  97.51%\n",
            "Depression:  15.06%\n",
            "Depression:  99.91%\n",
            "Depression:  17.01%\n",
            "Depression:  70.56%\n",
            "Depression:  71.95%\n",
            "Depression:  3.342e-05%\n"
          ],
          "name": "stdout"
        }
      ]
    },
    {
      "cell_type": "markdown",
      "metadata": {
        "id": "Kh9TO2RzS-LJ"
      },
      "source": [
        "#### The accuracy on custom samples *may not be high* due to the fact that we have not used a pre-complied dictionary, instead created one using the unique words of dataset only. "
      ]
    }
  ]
}